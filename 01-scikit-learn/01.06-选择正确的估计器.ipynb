{
 "cells": [
  {
   "cell_type": "markdown",
   "metadata": {},
   "source": [
    "通常来讲，选择适合的估计器（模型）是最困难的工作。\n",
    "\n",
    "不同的估计器适用于不同的场景。\n",
    "\n",
    "下面的图像旨在给读者大概的选择估计器的指导。"
   ]
  },
  {
   "cell_type": "markdown",
   "metadata": {},
   "source": [
    "![](http://scikit-learn.org/stable/_static/ml_map.png)"
   ]
  }
 ],
 "metadata": {
  "kernelspec": {
   "display_name": "Python 3",
   "language": "python",
   "name": "python3"
  },
  "language_info": {
   "codemirror_mode": {
    "name": "ipython",
    "version": 3
   },
   "file_extension": ".py",
   "mimetype": "text/x-python",
   "name": "python",
   "nbconvert_exporter": "python",
   "pygments_lexer": "ipython3",
   "version": "3.5.2"
  }
 },
 "nbformat": 4,
 "nbformat_minor": 2
}
